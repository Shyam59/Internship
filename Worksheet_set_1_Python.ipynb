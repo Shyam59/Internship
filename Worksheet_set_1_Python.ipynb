{
 "cells": [
  {
   "cell_type": "markdown",
   "id": "963b4d48",
   "metadata": {},
   "source": [
    "Q11 to Q15 are programming questions. Answer them in Jupyter Notebook."
   ]
  },
  {
   "cell_type": "markdown",
   "id": "ee269eae",
   "metadata": {},
   "source": [
    "Q11. Write a python program to find the factorial of a number."
   ]
  },
  {
   "cell_type": "code",
   "execution_count": 1,
   "id": "18136b23",
   "metadata": {},
   "outputs": [
    {
     "name": "stdout",
     "output_type": "stream",
     "text": [
      "40320\n"
     ]
    }
   ],
   "source": [
    "def factorial(n):\n",
    "    if n<0:\n",
    "        return \"Factorial is not defined for negative numbers.\"\n",
    "    if n==0 or n==1:\n",
    "        return 1\n",
    "    else:\n",
    "        return n*factorial(n-1)\n",
    "\n",
    "num = 8\n",
    "answer = factorial(num)\n",
    "print(answer)"
   ]
  },
  {
   "cell_type": "markdown",
   "id": "4a885989",
   "metadata": {},
   "source": [
    "Q12. Write a python program to find whether a number is prime or composite."
   ]
  },
  {
   "cell_type": "code",
   "execution_count": 2,
   "id": "aabe7b48",
   "metadata": {},
   "outputs": [
    {
     "name": "stdout",
     "output_type": "stream",
     "text": [
      "Prime number\n"
     ]
    }
   ],
   "source": [
    "def prime_or_composite(n):\n",
    "    if n<=1:\n",
    "        return \"Neither Prime nor Composite\"\n",
    "    if n==2:\n",
    "        return \"Prime number\"\n",
    "    for i in range(3, int(n**0.5)+1):\n",
    "        if n%i==0:\n",
    "            return \"Composite number\"\n",
    "    return \"Prime number\"\n",
    "\n",
    "\n",
    "num = 17\n",
    "result = prime_or_composite(num)\n",
    "print(result)"
   ]
  },
  {
   "cell_type": "markdown",
   "id": "f576707e",
   "metadata": {},
   "source": [
    "Q13. Write a python program to check whether a given string is palindrome or not"
   ]
  },
  {
   "cell_type": "code",
   "execution_count": 3,
   "id": "d4d99eb3",
   "metadata": {},
   "outputs": [
    {
     "name": "stdout",
     "output_type": "stream",
     "text": [
      "Palindrome\n"
     ]
    }
   ],
   "source": [
    "def palindrome_not(s):\n",
    "    s = s.lower()\n",
    "    s = s.replace(\" \", \"\")\n",
    "    if s == s[::-1]:\n",
    "        return \"Palindrome\"\n",
    "    else:\n",
    "        return \"Not a Palindrome\"\n",
    "    \n",
    "string = \"_Malayalam_\"\n",
    "result = palindrome_not(string)\n",
    "print(result)"
   ]
  },
  {
   "cell_type": "markdown",
   "id": "e0f5ee22",
   "metadata": {},
   "source": [
    "Q14. Write a Python program to get the third side of right-angled triangle from two given sides."
   ]
  },
  {
   "cell_type": "code",
   "execution_count": 4,
   "id": "b4c8ea8e",
   "metadata": {},
   "outputs": [
    {
     "name": "stdout",
     "output_type": "stream",
     "text": [
      "5.0\n"
     ]
    }
   ],
   "source": [
    "import math\n",
    "\n",
    "def third_side_of_right_angled_triangle(a, b):\n",
    "    c = math.sqrt(a**2+b**2)\n",
    "    return c\n",
    "\n",
    "a = 3\n",
    "b = 4\n",
    "c = third_side_of_right_angled_triangle(a, b)\n",
    "print(c)"
   ]
  },
  {
   "cell_type": "markdown",
   "id": "4a21bc77",
   "metadata": {},
   "source": [
    "Q15. Write a python program to print the frequency of each of the characters present in a given string"
   ]
  },
  {
   "cell_type": "code",
   "execution_count": 5,
   "id": "deec3279",
   "metadata": {},
   "outputs": [
    {
     "name": "stdout",
     "output_type": "stream",
     "text": [
      "{'n': 2, 'o': 2, 't': 1, 'h': 1, 'i': 4, 'g': 1, ' ': 2, 's': 3, 'm': 1, 'p': 1, 'b': 1, 'l': 1, 'e': 1}\n"
     ]
    }
   ],
   "source": [
    "def char_frequency(s):\n",
    "    frequency = {}\n",
    "    \n",
    "    for char in s:\n",
    "        if char in frequency:\n",
    "            frequency[char] += 1\n",
    "        else:\n",
    "            frequency[char] = 1\n",
    "    return frequency\n",
    "\n",
    "s = \"nothing is impossible\"\n",
    "result = char_frequency(s)\n",
    "print(result)"
   ]
  }
 ],
 "metadata": {
  "kernelspec": {
   "display_name": "Python 3 (ipykernel)",
   "language": "python",
   "name": "python3"
  },
  "language_info": {
   "codemirror_mode": {
    "name": "ipython",
    "version": 3
   },
   "file_extension": ".py",
   "mimetype": "text/x-python",
   "name": "python",
   "nbconvert_exporter": "python",
   "pygments_lexer": "ipython3",
   "version": "3.10.9"
  }
 },
 "nbformat": 4,
 "nbformat_minor": 5
}
