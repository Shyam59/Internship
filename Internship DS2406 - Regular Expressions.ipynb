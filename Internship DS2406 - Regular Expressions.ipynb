{
 "cells": [
  {
   "cell_type": "markdown",
   "id": "18162664",
   "metadata": {},
   "source": [
    "Question 1 - Write a Python program to replace all occurrences of a space, comma, or dot with a colon.\n",
    "Sample Text- 'Python Exercises, PHP exercises.'"
   ]
  },
  {
   "cell_type": "code",
   "execution_count": 1,
   "id": "86b93350",
   "metadata": {},
   "outputs": [
    {
     "name": "stdout",
     "output_type": "stream",
     "text": [
      "Python:Exercises::PHP:exercises:\n"
     ]
    }
   ],
   "source": [
    "import re\n",
    "sample_text ='Python Exercises, PHP exercises.'\n",
    "result = re.sub(r'[ ,.]', ':', sample_text)\n",
    "print(result)"
   ]
  },
  {
   "cell_type": "markdown",
   "id": "a007a5fe",
   "metadata": {},
   "source": [
    "Question 2-  Create a dataframe using the dictionary below and remove everything (commas (,), !, XXXX, ;, etc.) from the columns except words.\n",
    "Dictionary- {'SUMMARY' : ['hello, world!', 'XXXXX test', '123four, five:; six...']}"
   ]
  },
  {
   "cell_type": "code",
   "execution_count": 2,
   "id": "a4218cd4",
   "metadata": {},
   "outputs": [
    {
     "name": "stdout",
     "output_type": "stream",
     "text": [
      "         SUMMARY\n",
      "0    hello world\n",
      "1           test\n",
      "2  four five six\n"
     ]
    }
   ],
   "source": [
    "import re\n",
    "import pandas as pd\n",
    "\n",
    "data = {'SUMMARY' : ['hello, world!', 'XXXXX test', '123four, five:; six...']}\n",
    "\n",
    "df = pd.DataFrame(data)\n",
    "\n",
    "df['SUMMARY'] = df['SUMMARY'].apply(lambda x:re.sub(r'[,\\!\\.:;XXXXX\\d]','', x))\n",
    "df['SUMMARY'] = df['SUMMARY'].apply(lambda x:re.sub(r'[\\s+]',' ', x))\n",
    "print(df)"
   ]
  },
  {
   "cell_type": "markdown",
   "id": "ecdf493c",
   "metadata": {},
   "source": [
    "Question 3- Create a function in python to find all words that are at least 4 characters long in a string. The use of the re.compile() method is mandatory."
   ]
  },
  {
   "cell_type": "code",
   "execution_count": 6,
   "id": "5b0f8ac7",
   "metadata": {},
   "outputs": [
    {
     "name": "stdout",
     "output_type": "stream",
     "text": [
      "Words with at least 4 characters: ['name', 'Shyam', 'Kumar', 'Donka']\n"
     ]
    }
   ],
   "source": [
    "import re\n",
    "\n",
    "def find_words_at_least_4_characters(text):\n",
    "    pattern = re.compile(r'\\b\\w{4,}\\b')\n",
    "    words = pattern.findall(text)\n",
    "    return words\n",
    "\n",
    "sample_text = \"My name is Shyam Kumar Donka\"\n",
    "result = find_words_at_least_4_characters(sample_text)\n",
    "print(\"Words with at least 4 characters:\", result)"
   ]
  },
  {
   "cell_type": "markdown",
   "id": "e1a9c8f8",
   "metadata": {},
   "source": [
    "Question 4- Create a function in python to find all three, four, and five character words in a string. The use of the re.compile() method is mandatory."
   ]
  },
  {
   "cell_type": "code",
   "execution_count": 7,
   "id": "9d67e5a0",
   "metadata": {},
   "outputs": [
    {
     "name": "stdout",
     "output_type": "stream",
     "text": [
      "Words with at least 3 and max 5 characters: ['name', 'Shyam', 'Kumar', 'Donka', 'and', 'from']\n"
     ]
    }
   ],
   "source": [
    "import re\n",
    "\n",
    "def find_words_with_three_four_and_five_characters(text):\n",
    "    pattern = re.compile(r'\\b\\w{3,5}\\b')\n",
    "    words = pattern.findall(text)\n",
    "    return words\n",
    "\n",
    "sample_text = \"My name is Shyam Kumar Donka and I am from Hyderabad\"\n",
    "result = find_words_with_three_four_and_five_characters(sample_text)\n",
    "print(\"Words with at least 3 and max 5 characters:\", result)"
   ]
  },
  {
   "cell_type": "markdown",
   "id": "933a7c71",
   "metadata": {},
   "source": [
    "Question 5- Create a function in Python to remove the parenthesis in a list of strings. The use of the re.compile() method is mandatory.\n",
    "\n",
    "Sample Text: [\"example (.com)\", \"hr@fliprobo (.com)\", \"github (.com)\", \"Hello (Data Science World)\", \"Data (Scientist)\"]"
   ]
  },
  {
   "cell_type": "code",
   "execution_count": 112,
   "id": "19905015",
   "metadata": {},
   "outputs": [
    {
     "name": "stdout",
     "output_type": "stream",
     "text": [
      "example\n",
      "hr@fliprobo\n",
      "github\n",
      "Hello\n",
      "Data\n"
     ]
    }
   ],
   "source": [
    "import re\n",
    "\n",
    "def remove_parentheses(strings):\n",
    "    pattern = re.compile(r'\\s*\\([^)]*\\)')\n",
    "    return [pattern.sub('', string).strip() for string in strings]\n",
    "\n",
    "sample_text = [\"example (.com)\", \"hr@fliprobo (.com)\", \"github (.com)\", \"Hello (Data Science World)\", \"Data (Scientist)\"]\n",
    "result = remove_parentheses(sample_text)\n",
    "\n",
    "for text in result:\n",
    "    print(text)"
   ]
  },
  {
   "cell_type": "markdown",
   "id": "9bb46fc6",
   "metadata": {},
   "source": [
    "Question 6- Write a python program to remove the parenthesis area from the text stored in the text file using Regular Expression.\n",
    "\n",
    "Sample Text: [\"example (.com)\", \"hr@fliprobo (.com)\", \"github (.com)\", \"Hello (Data Science World)\", \"Data (Scientist)\"]\n",
    "\n",
    "Expected Output: [\"example\", \"hr@fliprobo\", \"github\", \"Hello\", \"Data\"]\n",
    "\n",
    "Note- Store given sample text in the text file and then to remove the parenthesis area from the text.\n"
   ]
  },
  {
   "cell_type": "code",
   "execution_count": 44,
   "id": "c780bd45",
   "metadata": {},
   "outputs": [
    {
     "name": "stdout",
     "output_type": "stream",
     "text": [
      "example\n",
      "hr@fliprobo\n",
      "github\n",
      "Hello\n",
      "Data\n"
     ]
    }
   ],
   "source": [
    "import re\n",
    "\n",
    "def remove_parentheses(strings):\n",
    "    pattern = re.compile(r'\\s*\\([^)]*\\)')\n",
    "    return [pattern.sub('', string).strip() for string in strings]\n",
    "\n",
    "sample_text = [\"example (.com)\", \"hr@fliprobo (.com)\", \"github (.com)\", \"Hello (Data Science World)\", \"Data (Scientist)\"]\n",
    "result = remove_parentheses(sample_text)\n",
    "\n",
    "for text in result:\n",
    "    print(text)"
   ]
  },
  {
   "cell_type": "markdown",
   "id": "f163e3d7",
   "metadata": {},
   "source": [
    "Question 7- Write a regular expression in Python to split a string into uppercase letters.\n",
    "\n",
    "Sample text: “ImportanceOfRegularExpressionsInPython”\n",
    "\n",
    "Expected Output: [‘Importance’, ‘Of’, ‘Regular’, ‘Expression’, ‘In’, ‘Python’]"
   ]
  },
  {
   "cell_type": "code",
   "execution_count": 45,
   "id": "14e8a648",
   "metadata": {},
   "outputs": [
    {
     "name": "stdout",
     "output_type": "stream",
     "text": [
      "['Importance', 'Of', 'Regular', 'Expressions', 'In', 'Python']\n"
     ]
    }
   ],
   "source": [
    "import re\n",
    "\n",
    "sample_text = \"ImportanceOfRegularExpressionsInPython\"\n",
    "result = re.findall(r'[A-Z][^A-Z]*', sample_text)\n",
    "\n",
    "print(result)"
   ]
  },
  {
   "cell_type": "markdown",
   "id": "ae6310df",
   "metadata": {},
   "source": [
    "Question 8- Create a function in python to insert spaces between words starting with numbers.\n",
    "\n",
    "Sample Text: “RegularExpression1IsAn2ImportantTopic3InPython\"\n",
    "\n",
    "Expected Output: RegularExpression 1IsAn 2ImportantTopic 3InPython"
   ]
  },
  {
   "cell_type": "code",
   "execution_count": 31,
   "id": "9769b5cc",
   "metadata": {},
   "outputs": [
    {
     "name": "stdout",
     "output_type": "stream",
     "text": [
      "RegularExpression 1IsAn 2ImportantTopic 3InPython\n"
     ]
    }
   ],
   "source": [
    "import re\n",
    "\n",
    "def insert_spaces(text):\n",
    "    pattern = r'([A-Za-z]+)(\\d+)'\n",
    "    result = re.sub(pattern, r'\\1 \\2', text)\n",
    "    result = result.strip()\n",
    "    return result\n",
    "\n",
    "sample_text = \"RegularExpression1IsAn2ImportantTopic3InPython\"\n",
    "result = insert_spaces(sample_text)\n",
    "\n",
    "print(result)"
   ]
  },
  {
   "cell_type": "markdown",
   "id": "45109ff4",
   "metadata": {},
   "source": [
    "Question 9- Create a function in python to insert spaces between words starting with capital letters or with numbers.\n",
    "\n",
    "Sample Text: “RegularExpression1IsAn2ImportantTopic3InPython\"\n",
    "\n",
    "Expected Output:  RegularExpression 1 IsAn 2 ImportantTopic 3 InPython"
   ]
  },
  {
   "cell_type": "code",
   "execution_count": 30,
   "id": "b464c6d0",
   "metadata": {},
   "outputs": [
    {
     "name": "stdout",
     "output_type": "stream",
     "text": [
      "RegularExpression 1 IsAn 2 ImportantTopic 3 InPython\n"
     ]
    }
   ],
   "source": [
    "import re\n",
    "\n",
    "def insert_spaces_around_digits(text):\n",
    "    pattern = r'(\\d)'\n",
    "    result = re.sub(pattern, r' \\1 ', text)\n",
    "    result = result.strip()\n",
    "    return result\n",
    "\n",
    "sample_text = \"RegularExpression1IsAn2ImportantTopic3InPython\"\n",
    "result = insert_spaces_around_digits(sample_text)\n",
    "print(result)"
   ]
  },
  {
   "cell_type": "markdown",
   "id": "219a8267",
   "metadata": {},
   "source": [
    "Question 10- Use the github link below to read the data and create a dataframe. After creating the dataframe extract the first 6 letters of each country and store in the dataframe under a new column called first_five_letters.\n",
    "\n",
    "Github Link-  https://raw.githubusercontent.com/dsrscientist/DSData/master/happiness_score_dataset.csv"
   ]
  },
  {
   "cell_type": "code",
   "execution_count": 35,
   "id": "2f05d2d7",
   "metadata": {},
   "outputs": [
    {
     "name": "stdout",
     "output_type": "stream",
     "text": [
      "       Country          Region  Happiness Rank  Happiness Score  \\\n",
      "0  Switzerland  Western Europe               1            7.587   \n",
      "1      Iceland  Western Europe               2            7.561   \n",
      "2      Denmark  Western Europe               3            7.527   \n",
      "3       Norway  Western Europe               4            7.522   \n",
      "4       Canada   North America               5            7.427   \n",
      "\n",
      "   Standard Error  Economy (GDP per Capita)   Family  \\\n",
      "0         0.03411                   1.39651  1.34951   \n",
      "1         0.04884                   1.30232  1.40223   \n",
      "2         0.03328                   1.32548  1.36058   \n",
      "3         0.03880                   1.45900  1.33095   \n",
      "4         0.03553                   1.32629  1.32261   \n",
      "\n",
      "   Health (Life Expectancy)  Freedom  Trust (Government Corruption)  \\\n",
      "0                   0.94143  0.66557                        0.41978   \n",
      "1                   0.94784  0.62877                        0.14145   \n",
      "2                   0.87464  0.64938                        0.48357   \n",
      "3                   0.88521  0.66973                        0.36503   \n",
      "4                   0.90563  0.63297                        0.32957   \n",
      "\n",
      "   Generosity  Dystopia Residual first_five_letters  \n",
      "0     0.29678            2.51738             Switze  \n",
      "1     0.43630            2.70201             Icelan  \n",
      "2     0.34139            2.49204             Denmar  \n",
      "3     0.34699            2.46531             Norway  \n",
      "4     0.45811            2.45176             Canada  \n"
     ]
    }
   ],
   "source": [
    "import pandas as pd\n",
    "\n",
    "url = \"https://raw.githubusercontent.com/dsrscientist/DSData/master/happiness_score_dataset.csv\"\n",
    "\n",
    "df = pd.read_csv(url)\n",
    "\n",
    "df['first_five_letters'] = df['Country'].str[:6]\n",
    "print(df.head())"
   ]
  },
  {
   "cell_type": "markdown",
   "id": "e70b6da1",
   "metadata": {},
   "source": [
    "Question 11- Write a Python program to match a string that contains only upper and lowercase letters, numbers, and underscores."
   ]
  },
  {
   "cell_type": "code",
   "execution_count": 41,
   "id": "168c38b7",
   "metadata": {},
   "outputs": [
    {
     "name": "stdout",
     "output_type": "stream",
     "text": [
      "Shyam_jvj_09 is a valid string.\n"
     ]
    }
   ],
   "source": [
    "import re\n",
    "\n",
    "def is_valid_string(string):\n",
    "    pattern = r'^[a-zA-Z0-9_]+$'\n",
    "    return bool(re.fullmatch(pattern, string))\n",
    "\n",
    "sample_string = \"Shyam_jvj_09\"\n",
    "if is_valid_string(sample_string):\n",
    "    print(f\"{sample_string} is a valid string.\")\n",
    "else:\n",
    "    print(f\"{sample_string} is not a valid string.\")"
   ]
  },
  {
   "cell_type": "markdown",
   "id": "d421421f",
   "metadata": {},
   "source": [
    "Question 12- Write a Python program where a string will start with a specific number. "
   ]
  },
  {
   "cell_type": "code",
   "execution_count": 45,
   "id": "f3c916b3",
   "metadata": {},
   "outputs": [
    {
     "name": "stdout",
     "output_type": "stream",
     "text": [
      "The string 'Shyam@441' does not start with the number '441'.\n"
     ]
    }
   ],
   "source": [
    "import re\n",
    "\n",
    "def starts_with_specific_number(string, number):\n",
    "    pattern = f'^{number}'\n",
    "    return re.fullmatch(pattern, string) is not None\n",
    "    \n",
    "sample_string = \"Shyam@441\"\n",
    "number = \"441\"\n",
    "if starts_with_specific_number(sample_string, number):\n",
    "    print(f\"The string '{sample_string}' starts with the number '{number}'.\")\n",
    "else:\n",
    "    print(f\"The string '{sample_string}' does not start with the number '{number}'.\")"
   ]
  },
  {
   "cell_type": "markdown",
   "id": "a762822b",
   "metadata": {},
   "source": [
    "Question 13- Write a Python program to remove leading zeros from an IP address."
   ]
  },
  {
   "cell_type": "code",
   "execution_count": 54,
   "id": "e98574e7",
   "metadata": {},
   "outputs": [
    {
     "name": "stdout",
     "output_type": "stream",
     "text": [
      "Correct IP: 192.168.120.10\n"
     ]
    }
   ],
   "source": [
    "import re\n",
    "\n",
    "def remove_leading_zeros_from_ip(ip_address):\n",
    "    pattern = r'\\b0+(\\d+)'\n",
    "    correct_ip_address = re.sub(pattern, r'\\1', ip_address)\n",
    "    return correct_ip_address\n",
    "\n",
    "sample_ip_address = \"192.168.120.010\"\n",
    "correct_ip_address = remove_leading_zeros_from_ip(sample_ip_address)\n",
    "print(f\"Correct IP: {correct_ip_address}\")"
   ]
  },
  {
   "cell_type": "markdown",
   "id": "689aac85",
   "metadata": {},
   "source": [
    "Question 14- Write a regular expression in python to match a date string in the form of Month name followed by day number and year stored in a text file.\n",
    "\n",
    "Sample text :  ' On August 15th 1947 that India was declared independent from British colonialism, and the reins of control were handed over to the leaders of the Country’.\n",
    "\n",
    "Expected Output- August 15th 1947\n",
    "\n",
    "Note- Store given sample text in the text file and then extract the date string asked format.\n"
   ]
  },
  {
   "cell_type": "code",
   "execution_count": 57,
   "id": "996a1db5",
   "metadata": {},
   "outputs": [
    {
     "name": "stdout",
     "output_type": "stream",
     "text": [
      "['August 15th 1947']\n"
     ]
    }
   ],
   "source": [
    "import re\n",
    "\n",
    "sample_text = \"On August 15th 1947 that India was declared independent from British colonialism, and the reins of control were handed over to the leaders of the Country.\"\n",
    "\n",
    "with open('sample_text.txt', 'w') as file:\n",
    "    file.write(sample_text)\n",
    "    \n",
    "pattern = r'(\\b(?:January|February|March|April|May|June|July|August|September|October|November|December)\\s+\\d{1,2}(?:st|nd|rd|th)? \\d{4})'\n",
    "\n",
    "with open('sample_text.txt', 'r') as file:\n",
    "    text = file.read()\n",
    "    matches = re.findall(pattern, text)\n",
    "\n",
    "if matches:\n",
    "    print(matches)\n",
    "else:\n",
    "    print(\"No date string found\")"
   ]
  },
  {
   "cell_type": "markdown",
   "id": "357c3ae8",
   "metadata": {},
   "source": [
    "Question 15- Write a Python program to search some literals strings in a string.\n",
    "\n",
    "Sample text : 'The quick brown fox jumps over the lazy dog.'\n",
    "\n",
    "Searched words : 'fox', 'dog', 'horse'"
   ]
  },
  {
   "cell_type": "code",
   "execution_count": 59,
   "id": "bb7c2ff3",
   "metadata": {},
   "outputs": [
    {
     "name": "stdout",
     "output_type": "stream",
     "text": [
      "\"word\" found in the text.\n",
      "\"word\" found in the text.\n",
      "\"word\" not found in the text.\n"
     ]
    }
   ],
   "source": [
    "import re\n",
    "\n",
    "sample_text = \"The quick brown fox jumps over the lazy dog\"\n",
    "searched_words = ['fox','dog','horse']\n",
    "\n",
    "for word in searched_words:\n",
    "    if re.search(word, sample_text):\n",
    "        print(f'\"word\" found in the text.')\n",
    "    else:\n",
    "        print(f'\"word\" not found in the text.')"
   ]
  },
  {
   "cell_type": "markdown",
   "id": "96e2a3bf",
   "metadata": {},
   "source": [
    "Question 16- Write a Python program to search a literals string in a string and also find the location within the original string where the pattern occurs\n",
    "\n",
    "Sample text : 'The quick brown fox jumps over the lazy dog.'\n",
    "\n",
    "Searched words : 'fox'"
   ]
  },
  {
   "cell_type": "code",
   "execution_count": 61,
   "id": "a313147e",
   "metadata": {},
   "outputs": [
    {
     "name": "stdout",
     "output_type": "stream",
     "text": [
      "'fox'found at position 16\n"
     ]
    }
   ],
   "source": [
    "import re\n",
    "\n",
    "sample_text = \"The quick brown fox jumps over the lazy dog\"\n",
    "searched_word = 'fox'\n",
    "\n",
    "for match in re.finditer(searched_word, sample_text):\n",
    "    print(f\"'{searched_word}'found at position {match.start()}\")"
   ]
  },
  {
   "cell_type": "markdown",
   "id": "45f07e54",
   "metadata": {},
   "source": [
    "Question 17- Write a Python program to find the substrings within a string.\n",
    "\n",
    "Sample text : 'Python exercises, PHP exercises, C# exercises'\n",
    "\n",
    "Pattern : 'exercises'."
   ]
  },
  {
   "cell_type": "code",
   "execution_count": 62,
   "id": "e3dc89c4",
   "metadata": {},
   "outputs": [
    {
     "name": "stdout",
     "output_type": "stream",
     "text": [
      "'exercises'found at position 7\n",
      "'exercises'found at position 22\n",
      "'exercises'found at position 36\n"
     ]
    }
   ],
   "source": [
    "import re\n",
    "\n",
    "sample_text = \"Python exercises, PHP exercises, C# exercises\"\n",
    "pattern = 'exercises'\n",
    "\n",
    "for match in re.finditer(pattern, sample_text):\n",
    "    print(f\"'{pattern}'found at position {match.start()}\")"
   ]
  },
  {
   "cell_type": "markdown",
   "id": "ca7512b2",
   "metadata": {},
   "source": [
    "Question 18- Write a Python program to find the occurrence and position of the substrings within a string."
   ]
  },
  {
   "cell_type": "code",
   "execution_count": 66,
   "id": "09a4c6b7",
   "metadata": {},
   "outputs": [
    {
     "name": "stdout",
     "output_type": "stream",
     "text": [
      "'exercises'occurs 3 times\n",
      "'exercises'found at position 7\n",
      "'exercises'found at position 22\n",
      "'exercises'found at position 36\n"
     ]
    }
   ],
   "source": [
    "import re\n",
    "\n",
    "sample_string = \"Python exercises, PHP exercises, C# exercises\"\n",
    "substring = 'exercises'\n",
    "\n",
    "count = sample_text.count(substring)\n",
    "print(f\"'{substring}'occurs {count} times\")\n",
    "\n",
    "for match in re.finditer(substring, sample_string):\n",
    "    print(f\"'{substring}'found at position {match.start()}\")"
   ]
  },
  {
   "cell_type": "markdown",
   "id": "123c4a4b",
   "metadata": {},
   "source": [
    "Question 19- Write a Python program to convert a date of yyyy-mm-dd format to dd-mm-yyyy format."
   ]
  },
  {
   "cell_type": "code",
   "execution_count": 70,
   "id": "453277f4",
   "metadata": {},
   "outputs": [
    {
     "name": "stdout",
     "output_type": "stream",
     "text": [
      "Converted Date: '24-06-2024'\n"
     ]
    }
   ],
   "source": [
    "import re\n",
    "\n",
    "def convert_date_format(date):\n",
    "    pattern = r'^(\\d{4})-(\\d{2})-(\\d{2})$'\n",
    "    converted_date = re.sub(pattern, r'\\3-\\2-\\1', date)\n",
    "    return converted_date\n",
    "\n",
    "original_date = \"2024-06-24\"\n",
    "converted_date = convert_date_format(original_date)\n",
    "print(f\"Converted Date: '{converted_date}'\")"
   ]
  },
  {
   "cell_type": "markdown",
   "id": "160a7a94",
   "metadata": {},
   "source": [
    "Question 20- Create a function in python to find all decimal numbers with a precision of 1 or 2 in a string. The use of the re.compile() method is mandatory.\n",
    "\n",
    "Sample Text: \"01.12 0132.123 2.31875 145.8 3.01 27.25 0.25\"\n",
    "\n",
    "Expected Output: ['01.12', '145.8', '3.01', '27.25', '0.25']"
   ]
  },
  {
   "cell_type": "code",
   "execution_count": 74,
   "id": "84e8d52d",
   "metadata": {},
   "outputs": [
    {
     "name": "stdout",
     "output_type": "stream",
     "text": [
      "Found Decimal numbers are: ['01.12', '145.8', '3.01', '27.25', '0.25']\n"
     ]
    }
   ],
   "source": [
    "import re\n",
    "\n",
    "def find_decimal_number(text):\n",
    "    pattern = r'\\b\\d+\\.\\d{1,2}\\b'\n",
    "    regex = re.compile(pattern)\n",
    "    decimal_numbers = regex.findall(text)\n",
    "    return decimal_numbers\n",
    "\n",
    "sample_text = \"01.12 0132.123 2.31875 145.8 3.01 27.25 0.25\"\n",
    "result = find_decimal_number(sample_text)\n",
    "print(\"Found Decimal numbers are:\", result)"
   ]
  },
  {
   "cell_type": "markdown",
   "id": "9528c4cf",
   "metadata": {},
   "source": [
    "Question 21- Write a Python program to separate and print the numbers and their position of a given string."
   ]
  },
  {
   "cell_type": "code",
   "execution_count": 76,
   "id": "6e971812",
   "metadata": {},
   "outputs": [
    {
     "name": "stdout",
     "output_type": "stream",
     "text": [
      "Number: 441, Position: 6\n",
      "Number: 3646, Position: 33\n"
     ]
    }
   ],
   "source": [
    "import re\n",
    "\n",
    "def print_numbers_with_positions(text):\n",
    "    pattern = r'\\d+'\n",
    "    regex = re.compile(pattern)\n",
    "    matches = regex.finditer(text)\n",
    "    \n",
    "    for match in matches:\n",
    "        print(f\"Number: {match.group()}, Position: {match.start()}\")\n",
    "        \n",
    "sample_text = \" Shyam441 is my user ID and Donka3646 is my password\"\n",
    "print_numbers_with_positions(sample_text)"
   ]
  },
  {
   "cell_type": "markdown",
   "id": "d1eb8342",
   "metadata": {},
   "source": [
    "Question 22- Write a regular expression in python program to extract maximum/largest numeric value from a string.\n",
    "\n",
    "Sample Text:  'My marks in each semester are: 947, 896, 926, 524, 734, 950, 642'\n",
    "\n",
    "Expected Output: 950"
   ]
  },
  {
   "cell_type": "code",
   "execution_count": 77,
   "id": "4fb30ca1",
   "metadata": {},
   "outputs": [
    {
     "name": "stdout",
     "output_type": "stream",
     "text": [
      "Maximum numeric value: 950\n"
     ]
    }
   ],
   "source": [
    "import re\n",
    "\n",
    "def extract_max_numeric_value(string):\n",
    "    pattern = r'\\b\\d+\\b'\n",
    "    numbers = re.findall(pattern, string)\n",
    "    if numbers:\n",
    "        max_number = max(numbers, key=int)\n",
    "        return max_number\n",
    "    else:\n",
    "        return None\n",
    "    \n",
    "sample_text = \"My marks in each semester are: 947, 896, 926, 524, 734, 950, 642\"\n",
    "max_number = extract_max_numeric_value(sample_text)\n",
    "print(f\"Maximum numeric value: {max_number}\")"
   ]
  },
  {
   "cell_type": "markdown",
   "id": "98f6f0d0",
   "metadata": {},
   "source": [
    "Question 23- Create a function in python to insert spaces between words starting with capital letters.\n",
    "\n",
    "Sample Text: “RegularExpressionIsAnImportantTopicInPython\"\n",
    "\n",
    "Expected Output: Regular Expression Is An Important Topic In Python"
   ]
  },
  {
   "cell_type": "code",
   "execution_count": 84,
   "id": "dc10a831",
   "metadata": {},
   "outputs": [
    {
     "name": "stdout",
     "output_type": "stream",
     "text": [
      "Regular Expression Is An Important Topic In Python\n"
     ]
    }
   ],
   "source": [
    "import re\n",
    "\n",
    "def insert_spaces(text):\n",
    "    output = re.sub(r\"([a-z])([A-Z])\", r\"\\1 \\2\", text)\n",
    "    return output\n",
    "\n",
    "sample_text = \"RegularExpressionIsAnImportantTopicInPython\"\n",
    "output = insert_spaces(sample_text)\n",
    "print(output)"
   ]
  },
  {
   "cell_type": "markdown",
   "id": "89e242b3",
   "metadata": {},
   "source": [
    "Question 24- Python regex to find sequences of one upper case letter followed by lower case letters"
   ]
  },
  {
   "cell_type": "code",
   "execution_count": 86,
   "id": "f47f1f38",
   "metadata": {},
   "outputs": [
    {
     "name": "stdout",
     "output_type": "stream",
     "text": [
      "['Shy', 'Am', 'Kumar', 'Donka']\n"
     ]
    }
   ],
   "source": [
    "import re\n",
    "\n",
    "text = \"ShyAmKumarDonka\"\n",
    "pattern = r'([A-Z][a-z]+)'\n",
    "matches = re.findall(pattern, text)\n",
    "print(matches)"
   ]
  },
  {
   "cell_type": "markdown",
   "id": "cd5c3683",
   "metadata": {},
   "source": [
    "Question 25- Write a Python program to remove continuous duplicate words from Sentence using Regular Expression.\n",
    "\n",
    "Sample Text: \"Hello hello world world\"\n",
    "\n",
    "Expected Output: Hello hello world"
   ]
  },
  {
   "cell_type": "code",
   "execution_count": 87,
   "id": "a215a0cd",
   "metadata": {},
   "outputs": [
    {
     "name": "stdout",
     "output_type": "stream",
     "text": [
      "Hello hello world\n"
     ]
    }
   ],
   "source": [
    "import re\n",
    "\n",
    "def remove_continuous_duplicates(text):\n",
    "    correct_text = re.sub(r'\\b(\\w+)\\s+\\1\\b', r'\\1', text)\n",
    "    return correct_text\n",
    "\n",
    "sample_text = \"Hello hello world world\"\n",
    "correct_text = remove_continuous_duplicates(sample_text)\n",
    "print(correct_text)"
   ]
  },
  {
   "cell_type": "markdown",
   "id": "e6670b61",
   "metadata": {},
   "source": [
    "Question 26-  Write a python program using RegEx to accept string ending with alphanumeric character."
   ]
  },
  {
   "cell_type": "code",
   "execution_count": 100,
   "id": "e538f47d",
   "metadata": {},
   "outputs": [
    {
     "name": "stdout",
     "output_type": "stream",
     "text": [
      "True\n",
      "False\n"
     ]
    }
   ],
   "source": [
    "import re\n",
    "\n",
    "def ends_with_alphanumeric(string):\n",
    "    pattern = r'\\w$'\n",
    "    \n",
    "    if re.search(pattern, string):\n",
    "        return True\n",
    "    else:\n",
    "        return False\n",
    "\n",
    "string_1 = \"Shyam@123\"\n",
    "string_2 = \"Donka@don#\"\n",
    "print(ends_with_alphanumeric(string_1))\n",
    "print(ends_with_alphanumeric(string_2))"
   ]
  },
  {
   "cell_type": "markdown",
   "id": "d4d2c204",
   "metadata": {},
   "source": [
    "Question 27- Write a python program using RegEx to extract the hashtags.\n",
    "\n",
    "Sample Text:  \"\"\"RT @kapil_kausik: #Doltiwal I mean #xyzabc is \"hurt\" by #Demonetization as the same has rendered USELESS <ed><U+00A0><U+00BD><ed><U+00B1><U+0089> \"acquired funds\" No wo\"\"\"\n",
    "    \n",
    "Expected Output: ['#Doltiwal', '#xyzabc', '#Demonetization']"
   ]
  },
  {
   "cell_type": "code",
   "execution_count": 101,
   "id": "913e208b",
   "metadata": {},
   "outputs": [
    {
     "name": "stdout",
     "output_type": "stream",
     "text": [
      "['#Doltiwal', '#xyzabc', '#Demonetization']\n"
     ]
    }
   ],
   "source": [
    "import re\n",
    "\n",
    "def extract_hashtags(text):\n",
    "    pattern = r'#\\w+'\n",
    "    hashtags = re.findall(pattern, text)\n",
    "    return hashtags\n",
    "\n",
    "sample_text = \"\"\"RT @kapil_kausik: #Doltiwal I mean #xyzabc is \"hurt\" by #Demonetization as the same has rendered USELESS <ed><U+00A0><U+00BD><ed><U+00B1><U+0089> \"acquired funds\" No wo\"\"\"\n",
    "output = extract_hashtags(sample_text)\n",
    "print(output)"
   ]
  },
  {
   "cell_type": "markdown",
   "id": "3e12349a",
   "metadata": {},
   "source": [
    "Question 28- Write a python program using RegEx to remove <U+..> like symbols\n",
    "Check the below sample text, there are strange symbols something of the sort <U+..> all over the place. You need to come up with a general Regex expression that will cover all such symbols.\n",
    "\n",
    "Sample Text: \"@Jags123456 Bharat band on 28??<ed><U+00A0><U+00BD><ed><U+00B8><U+0082>Those who  are protesting #demonetization  are all different party leaders\"\n",
    "\n",
    "Expected Output: @Jags123456 Bharat band on 28??<ed><ed>Those who  are protesting #demonetization  are all different party leaders"
   ]
  },
  {
   "cell_type": "code",
   "execution_count": 105,
   "id": "613b7c1f",
   "metadata": {},
   "outputs": [
    {
     "name": "stdout",
     "output_type": "stream",
     "text": [
      "@Jags123456 Bharat band on 28??<ed><ed>Those who  are protesting #demonetization  are all different party leaders\n"
     ]
    }
   ],
   "source": [
    "import re\n",
    "\n",
    "def remove_unicode_symbols(text):\n",
    "    pattern = r'<U\\+[0-9A-Fa-f]{4}>'\n",
    "    correct_text = re.sub(pattern, '', text)\n",
    "    return correct_text\n",
    "\n",
    "sample_text = \"@Jags123456 Bharat band on 28??<ed><U+00A0><U+00BD><ed><U+00B8><U+0082>Those who  are protesting #demonetization  are all different party leaders\"\n",
    "output = remove_unicode_symbols(sample_text)\n",
    "print(output)"
   ]
  },
  {
   "cell_type": "markdown",
   "id": "ef2e21c7",
   "metadata": {},
   "source": [
    "Question 29- Write a python program to extract dates from the text stored in the text file.\n",
    "\n",
    "Sample Text: Ron was born on 12-09-1992 and he was admitted to school 15-12-1999.\n",
    "\n",
    "Note- Store this sample text in the file and then extract dates."
   ]
  },
  {
   "cell_type": "code",
   "execution_count": 108,
   "id": "22271ea5",
   "metadata": {},
   "outputs": [
    {
     "name": "stdout",
     "output_type": "stream",
     "text": [
      "['12-09-1992', '15-12-1999']\n"
     ]
    }
   ],
   "source": [
    "import re\n",
    "\n",
    "def extract_dates_from_file(text):\n",
    "    \n",
    "    with open('sample_text.txt', 'w') as file:\n",
    "        file.write(sample_text)\n",
    "            \n",
    "    pattern = r'\\b\\d{2}-\\d{2}-\\d{4}\\b'\n",
    "    \n",
    "    with open('sample_text.txt', 'r') as file:\n",
    "        text = file.read()\n",
    "        dates = re.findall(pattern, text)\n",
    "        return dates\n",
    "\n",
    "sample_text = \"Ron was born on 12-09-1992 and he was admitted to school 15-12-1999.\"\n",
    "dates = extract_dates_from_file(sample_text)\n",
    "print(dates)"
   ]
  },
  {
   "cell_type": "markdown",
   "id": "01de3361",
   "metadata": {},
   "source": [
    "Question 30- Create a function in python to remove all words from a string of length between 2 and 4.\n",
    "The use of the re.compile() method is mandatory.\n",
    "\n",
    "Sample Text: \"The following example creates an ArrayList with a capacity of 50 elements. 4 elements are then added to the ArrayList and the ArrayList is trimmed accordingly.\"\n",
    "\n",
    "Expected Output:  following example creates ArrayList a capacity elements. 4 elements added ArrayList ArrayList trimmed accordingly."
   ]
  },
  {
   "cell_type": "code",
   "execution_count": 109,
   "id": "cc588815",
   "metadata": {},
   "outputs": [
    {
     "name": "stdout",
     "output_type": "stream",
     "text": [
      " following example creates  ArrayList  a capacity   elements. 4 elements   added   ArrayList   ArrayList  trimmed accordingly.\n"
     ]
    }
   ],
   "source": [
    "import re\n",
    "\n",
    "def remove_words_of_length_between_2_and_4(text):\n",
    "    pattern = re.compile(r'\\b\\w{2,4}\\b')\n",
    "    return pattern.sub('', text)\n",
    "\n",
    "sample_text = \"The following example creates an ArrayList with a capacity of 50 elements. 4 elements are then added to the ArrayList and the ArrayList is trimmed accordingly.\"\n",
    "output = remove_words_of_length_between_2_and_4(sample_text)\n",
    "print(output)"
   ]
  }
 ],
 "metadata": {
  "kernelspec": {
   "display_name": "Python 3 (ipykernel)",
   "language": "python",
   "name": "python3"
  },
  "language_info": {
   "codemirror_mode": {
    "name": "ipython",
    "version": 3
   },
   "file_extension": ".py",
   "mimetype": "text/x-python",
   "name": "python",
   "nbconvert_exporter": "python",
   "pygments_lexer": "ipython3",
   "version": "3.10.9"
  }
 },
 "nbformat": 4,
 "nbformat_minor": 5
}
